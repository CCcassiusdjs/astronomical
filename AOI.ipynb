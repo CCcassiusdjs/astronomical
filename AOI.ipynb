{
 "cells": [
  {
   "metadata": {},
   "cell_type": "markdown",
   "source": [
    "# SpaceNet Dataset Overview\n",
    "\n",
    "The dataset choosen fot this task was the (description below)\n",
    "\n",
    "## Description\n",
    "SpaceNet, created through a novel double-stage augmentation framework (FLARE), is a hierarchically structured, high-quality astronomical image dataset. The dataset is tailored for both fine-grained and macro classification tasks, enabling enhanced generalization on various recognition tasks. With approximately **12,900 samples**, SpaceNet integrates lower-resolution (LR) to higher-resolution (HR) conversions, standard augmentations, and a diffusion approach for synthetic sample generation. \n",
    "\n",
    "**Reference:** [FLARE Paper](https://arxiv.org/pdf/2405.13267)\n",
    "\n",
    "## Dataset Structure\n",
    "\n",
    "- **Fine-Grained Classes**: 8 distinct classes, covering a range of astronomical objects:\n",
    "    - Planets\n",
    "    - Galaxies\n",
    "    - Asteroids\n",
    "    - Nebulae\n",
    "    - Comets\n",
    "    - Black Holes\n",
    "    - Stars\n",
    "    - Constellations\n",
    "\n",
    "## Dataset Composition\n",
    "\n",
    "- **Total Samples**: Approximately 12,900 images\n",
    "- **Class Distribution**:\n",
    "    - **Asteroid**: 283 files\n",
    "    - **Black Hole**: 656 files\n",
    "    - **Comet**: 416 files\n",
    "    - **Constellation**: 1,552 files\n",
    "    - **Galaxy**: 3,984 files\n",
    "    - **Nebula**: 1,192 files\n",
    "    - **Planet**: 1,472 files\n",
    "    - **Star**: 3,269 files\n",
    "\n",
    "## Usage\n",
    "\n",
    "SpaceNet is designed for:\n",
    "1. **Training and Evaluation**: Suitable for training and evaluating machine learning models on fine-grained and macro-level astronomical classification tasks.\n",
    "2. **Hierarchical Classification Research**: Facilitates research on hierarchical classification in the field of astronomy.\n",
    "3. **Generalization Research**: Helps in developing robust models that generalize across in-domain and out-of-domain datasets.\n",
    "\n",
    "---\n",
    "\n",
    "This section provides an overview of the SpaceNet dataset's capabilities, structure, and suggested applications for machine learning models in astronomy.\n"
   ],
   "id": "8a77807f92f26ee"
  },
  {
   "metadata": {},
   "cell_type": "markdown",
   "source": "# Verificando se a GPU está disponível",
   "id": "ca29b6835272f9b6"
  },
  {
   "metadata": {},
   "cell_type": "code",
   "outputs": [],
   "execution_count": null,
   "source": [
    "# Verificando se a GPU está disponível\n",
    "print(\"GPUs disponíveis:\", tf.config.list_physical_devices('GPU'))\n",
    "\n",
    "# Configurando a GPU para uso com crescimento de memória gradual\n",
    "gpus = tf.config.list_physical_devices('GPU')\n",
    "if gpus:\n",
    "    try:\n",
    "        for gpu in gpus:\n",
    "            tf.config.experimental.set_memory_growth(gpu, True)\n",
    "        print(\"Memória da GPU configurada para crescimento gradual.\")\n",
    "    except RuntimeError as e:\n",
    "        print(e)"
   ],
   "id": "ee1cd72260fd42ef"
  },
  {
   "metadata": {},
   "cell_type": "markdown",
   "source": [
    "# SpaceNet Astronomy Classification with CNNs\n",
    "\n",
    "## 1. Setup\n",
    "### Importando Bibliotecas"
   ],
   "id": "9f14676bd62d0125"
  },
  {
   "metadata": {
    "ExecuteTime": {
     "end_time": "2024-10-28T23:19:40.992342Z",
     "start_time": "2024-10-28T23:19:40.973781Z"
    }
   },
   "cell_type": "code",
   "source": [
    "import numpy as np\n",
    "import pandas as pd\n",
    "import matplotlib.pyplot as plt\n",
    "import seaborn as sns\n",
    "from tensorflow.keras.preprocessing.image import ImageDataGenerator\n",
    "from tensorflow.keras.models import Sequential\n",
    "from tensorflow.keras.layers import Conv2D, MaxPooling2D, Flatten, Dense, Dropout\n",
    "from sklearn.metrics import classification_report, confusion_matrix\n",
    "import kagglehub"
   ],
   "id": "9cda6b8ac6c5c1d8",
   "outputs": [
    {
     "ename": "ModuleNotFoundError",
     "evalue": "No module named 'tensorflow'",
     "output_type": "error",
     "traceback": [
      "\u001B[1;31m---------------------------------------------------------------------------\u001B[0m",
      "\u001B[1;31mModuleNotFoundError\u001B[0m                       Traceback (most recent call last)",
      "Cell \u001B[1;32mIn[2], line 5\u001B[0m\n\u001B[0;32m      3\u001B[0m \u001B[38;5;28;01mimport\u001B[39;00m \u001B[38;5;21;01mmatplotlib\u001B[39;00m\u001B[38;5;21;01m.\u001B[39;00m\u001B[38;5;21;01mpyplot\u001B[39;00m \u001B[38;5;28;01mas\u001B[39;00m \u001B[38;5;21;01mplt\u001B[39;00m\n\u001B[0;32m      4\u001B[0m \u001B[38;5;28;01mimport\u001B[39;00m \u001B[38;5;21;01mseaborn\u001B[39;00m \u001B[38;5;28;01mas\u001B[39;00m \u001B[38;5;21;01msns\u001B[39;00m\n\u001B[1;32m----> 5\u001B[0m \u001B[38;5;28;01mfrom\u001B[39;00m \u001B[38;5;21;01mtensorflow\u001B[39;00m\u001B[38;5;21;01m.\u001B[39;00m\u001B[38;5;21;01mkeras\u001B[39;00m\u001B[38;5;21;01m.\u001B[39;00m\u001B[38;5;21;01mpreprocessing\u001B[39;00m\u001B[38;5;21;01m.\u001B[39;00m\u001B[38;5;21;01mimage\u001B[39;00m \u001B[38;5;28;01mimport\u001B[39;00m ImageDataGenerator\n\u001B[0;32m      6\u001B[0m \u001B[38;5;28;01mfrom\u001B[39;00m \u001B[38;5;21;01mtensorflow\u001B[39;00m\u001B[38;5;21;01m.\u001B[39;00m\u001B[38;5;21;01mkeras\u001B[39;00m\u001B[38;5;21;01m.\u001B[39;00m\u001B[38;5;21;01mmodels\u001B[39;00m \u001B[38;5;28;01mimport\u001B[39;00m Sequential\n\u001B[0;32m      7\u001B[0m \u001B[38;5;28;01mfrom\u001B[39;00m \u001B[38;5;21;01mtensorflow\u001B[39;00m\u001B[38;5;21;01m.\u001B[39;00m\u001B[38;5;21;01mkeras\u001B[39;00m\u001B[38;5;21;01m.\u001B[39;00m\u001B[38;5;21;01mlayers\u001B[39;00m \u001B[38;5;28;01mimport\u001B[39;00m Conv2D, MaxPooling2D, Flatten, Dense, Dropout\n",
      "\u001B[1;31mModuleNotFoundError\u001B[0m: No module named 'tensorflow'"
     ]
    }
   ],
   "execution_count": 2
  },
  {
   "metadata": {},
   "cell_type": "markdown",
   "source": [
    "## 2. Download do Dataset\n",
    "### Usando o kagglehub para baixar o dataset do Kaggle"
   ],
   "id": "6c0240211c1ef17d"
  },
  {
   "metadata": {
    "ExecuteTime": {
     "end_time": "2024-10-28T23:16:43.752231Z",
     "start_time": "2024-10-28T23:16:43.237448Z"
    }
   },
   "cell_type": "code",
   "source": [
    "path = kagglehub.dataset_download(\"razaimam45/spacenet-an-optimally-distributed-astronomy-data\")\n",
    "print(\"Path to dataset files:\", path)"
   ],
   "id": "ae211c8512c5a88c",
   "outputs": [
    {
     "ename": "NameError",
     "evalue": "name 'kagglehub' is not defined",
     "output_type": "error",
     "traceback": [
      "\u001B[1;31m---------------------------------------------------------------------------\u001B[0m",
      "\u001B[1;31mNameError\u001B[0m                                 Traceback (most recent call last)",
      "Cell \u001B[1;32mIn[1], line 1\u001B[0m\n\u001B[1;32m----> 1\u001B[0m path \u001B[38;5;241m=\u001B[39m kagglehub\u001B[38;5;241m.\u001B[39mdataset_download(\u001B[38;5;124m\"\u001B[39m\u001B[38;5;124mrazaimam45/spacenet-an-optimally-distributed-astronomy-data\u001B[39m\u001B[38;5;124m\"\u001B[39m)\n\u001B[0;32m      2\u001B[0m \u001B[38;5;28mprint\u001B[39m(\u001B[38;5;124m\"\u001B[39m\u001B[38;5;124mPath to dataset files:\u001B[39m\u001B[38;5;124m\"\u001B[39m, path)\n",
      "\u001B[1;31mNameError\u001B[0m: name 'kagglehub' is not defined"
     ]
    }
   ],
   "execution_count": 1
  },
  {
   "metadata": {},
   "cell_type": "markdown",
   "source": [
    "## 3. Análise Exploratória do Dataset\n",
    "### Configuração da ImageDataGenerator para contar e visualizar as classes"
   ],
   "id": "eadedff4926fda7d"
  },
  {
   "metadata": {},
   "cell_type": "code",
   "outputs": [],
   "execution_count": null,
   "source": [
    "datagen = ImageDataGenerator(rescale=1./255, validation_split=0.2)\n",
    "train_data = datagen.flow_from_directory(\n",
    "    path,\n",
    "    target_size=(150, 150),\n",
    "    batch_size=32,\n",
    "    class_mode='categorical',\n",
    "    subset='training'\n",
    ")"
   ],
   "id": "5f4e4a20857c127"
  },
  {
   "metadata": {},
   "cell_type": "markdown",
   "source": "### Exibindo Distribuição de Classes",
   "id": "139faaa378974d8e"
  },
  {
   "metadata": {},
   "cell_type": "code",
   "outputs": [],
   "execution_count": null,
   "source": [
    "# Exibindo a distribuição das classes\n",
    "class_counts = train_data.class_indices\n",
    "class_names = list(class_counts.keys())\n",
    "num_classes = len(class_names)"
   ],
   "id": "156a6c76d37e650b"
  }
 ],
 "metadata": {
  "kernelspec": {
   "display_name": "Python 3",
   "language": "python",
   "name": "python3"
  },
  "language_info": {
   "codemirror_mode": {
    "name": "ipython",
    "version": 2
   },
   "file_extension": ".py",
   "mimetype": "text/x-python",
   "name": "python",
   "nbconvert_exporter": "python",
   "pygments_lexer": "ipython2",
   "version": "2.7.6"
  }
 },
 "nbformat": 4,
 "nbformat_minor": 5
}
